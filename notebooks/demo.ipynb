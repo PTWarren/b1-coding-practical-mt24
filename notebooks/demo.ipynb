{
 "cells": [
  {
   "cell_type": "code",
   "execution_count": 1,
   "metadata": {},
   "outputs": [],
   "source": [
    "# Add relevant Jupyter notebook extensions \n",
    "%load_ext autoreload\n",
    "%autoreload 2"
   ]
  },
  {
   "cell_type": "code",
   "execution_count": 2,
   "metadata": {},
   "outputs": [
    {
     "name": "stdout",
     "output_type": "stream",
     "text": [
      "['c:\\\\Users\\\\Patrick Warren\\\\OneDrive - Nexus365\\\\Eng\\\\3rd Year\\\\B1 Engineering Computation\\\\Scientific Coding\\\\b1-coding-practical-mt24\\\\notebooks', 'c:\\\\Users\\\\Patrick Warren\\\\anaconda3\\\\python312.zip', 'c:\\\\Users\\\\Patrick Warren\\\\anaconda3\\\\DLLs', 'c:\\\\Users\\\\Patrick Warren\\\\anaconda3\\\\Lib', 'c:\\\\Users\\\\Patrick Warren\\\\anaconda3', '', 'c:\\\\Users\\\\Patrick Warren\\\\anaconda3\\\\Lib\\\\site-packages', 'C:\\\\Users\\\\Patrick Warren\\\\OneDrive - Nexus365\\\\Eng\\\\3rd Year\\\\B1 Engineering Computation\\\\Scientific Coding\\\\b1-coding-practical-mt24\\\\uuv_mission', 'C:\\\\Users\\\\Patrick Warren\\\\OneDrive - Nexus365\\\\Eng\\\\3rd Year\\\\B1 Engineering Computation\\\\Scientific Coding\\\\b1-coding-practical-mt24\\\\data', 'c:\\\\Users\\\\Patrick Warren\\\\anaconda3\\\\Lib\\\\site-packages\\\\win32', 'c:\\\\Users\\\\Patrick Warren\\\\anaconda3\\\\Lib\\\\site-packages\\\\win32\\\\lib', 'c:\\\\Users\\\\Patrick Warren\\\\anaconda3\\\\Lib\\\\site-packages\\\\Pythonwin']\n"
     ]
    }
   ],
   "source": [
    "# You can double-check your Python path like this...\n",
    "import sys  \n",
    "print(sys.path)"
   ]
  },
  {
   "cell_type": "code",
   "execution_count": null,
   "metadata": {},
   "outputs": [
    {
     "name": "stdout",
     "output_type": "stream",
     "text": [
      "0     0.000000\n",
      "1     2.923913\n",
      "2     5.514324\n",
      "3     7.487585\n",
      "4     8.652029\n",
      "        ...   \n",
      "95   -1.335601\n",
      "96    0.754603\n",
      "97    2.380025\n",
      "98    3.296039\n",
      "99    3.364950\n",
      "Name: reference, Length: 100, dtype: float64\n"
     ]
    }
   ],
   "source": [
    "# Testing to see what is being imported from mission file\n",
    "import pandas as pd\n",
    "file_name = input(\"Enter the file path\")\n",
    "\n",
    "\n",
    "df = pd.read_csv(file_name)\n",
    "\n",
    "references = df.iloc[:,0]\n",
    "cave_heights = df.iloc[:1]\n",
    "cave_depths = df.iloc[:,2]\n",
    "print(references)"
   ]
  },
  {
   "cell_type": "code",
   "execution_count": 21,
   "metadata": {},
   "outputs": [
    {
     "data": {
      "text/plain": [
       "Mission(reference=0     0.000000\n",
       "1     2.923913\n",
       "2     5.514324\n",
       "3     7.487585\n",
       "4     8.652029\n",
       "        ...   \n",
       "95   -1.335601\n",
       "96    0.754603\n",
       "97    2.380025\n",
       "98    3.296039\n",
       "99    3.364950\n",
       "Name: reference, Length: 100, dtype: float64, cave_height=   reference  cave_height  cave_depth\n",
       "0        0.0         30.0       -30.0, cave_depth=0    -30.000000\n",
       "1    -18.133231\n",
       "2     -8.659243\n",
       "3    -10.294475\n",
       "4     -2.496739\n",
       "        ...    \n",
       "95   -22.539706\n",
       "96   -13.089775\n",
       "97   -15.184951\n",
       "98   -12.685427\n",
       "99   -14.617106\n",
       "Name: cave_depth, Length: 100, dtype: float64)"
      ]
     },
     "execution_count": 21,
     "metadata": {},
     "output_type": "execute_result"
    }
   ],
   "source": [
    "import dynamic\n",
    "\n",
    "dynamic.Mission.from_csv(\"../data/mission.csv\")"
   ]
  },
  {
   "cell_type": "markdown",
   "metadata": {},
   "source": [
    "# Simulate closed-loop\n",
    "After implementing your control functionality, you can simulate the closed-loop with code that looks something like this..."
   ]
  },
  {
   "cell_type": "code",
   "execution_count": null,
   "metadata": {},
   "outputs": [
    {
     "ename": "TypeError",
     "evalue": "Mission.__init__() missing 3 required positional arguments: 'reference', 'cave_height', and 'cave_depth'",
     "output_type": "error",
     "traceback": [
      "\u001b[1;31m---------------------------------------------------------------------------\u001b[0m",
      "\u001b[1;31mTypeError\u001b[0m                                 Traceback (most recent call last)",
      "Cell \u001b[1;32mIn[12], line 9\u001b[0m\n\u001b[0;32m      7\u001b[0m \u001b[38;5;66;03m# Instantiate your controller (depending on your implementation)\u001b[39;00m\n\u001b[0;32m      8\u001b[0m closed_loop \u001b[38;5;241m=\u001b[39m dynamic\u001b[38;5;241m.\u001b[39mClosedLoop(sub, control\u001b[38;5;241m.\u001b[39mcontroller)\n\u001b[1;32m----> 9\u001b[0m mission \u001b[38;5;241m=\u001b[39m dynamic\u001b[38;5;241m.\u001b[39mMission()\n\u001b[0;32m     10\u001b[0m mission\u001b[38;5;241m.\u001b[39mfrom_csv(\u001b[38;5;124m\"\u001b[39m\u001b[38;5;124m../data/mission.csv\u001b[39m\u001b[38;5;124m\"\u001b[39m) \u001b[38;5;66;03m# You must implement this method in the Mission class\u001b[39;00m\n\u001b[0;32m     12\u001b[0m trajectory \u001b[38;5;241m=\u001b[39m closed_loop\u001b[38;5;241m.\u001b[39msimulate_with_random_disturbances(mission)\n",
      "\u001b[1;31mTypeError\u001b[0m: Mission.__init__() missing 3 required positional arguments: 'reference', 'cave_height', and 'cave_depth'"
     ]
    }
   ],
   "source": [
    "# Import relevant modules\n",
    "import control\n",
    "import dynamic\n",
    "import numpy as np\n",
    "\n",
    "sub = dynamic.Submarine()\n",
    "# Instantiate your controller (depending on your implementation)\n",
    "closed_loop = dynamic.ClosedLoop(sub, control.controller)\n",
    "mission = dynamic.Mission.from_csv(\"../data/mission.csv\") # You must implement this method in the Mission class\n",
    "\n",
    "trajectory = closed_loop.simulate_with_random_disturbances(mission)\n",
    "trajectory.plot_completed_mission(mission)"
   ]
  }
 ],
 "metadata": {
  "kernelspec": {
   "display_name": "base",
   "language": "python",
   "name": "python3"
  },
  "language_info": {
   "codemirror_mode": {
    "name": "ipython",
    "version": 3
   },
   "file_extension": ".py",
   "mimetype": "text/x-python",
   "name": "python",
   "nbconvert_exporter": "python",
   "pygments_lexer": "ipython3",
   "version": "3.12.4"
  }
 },
 "nbformat": 4,
 "nbformat_minor": 2
}
