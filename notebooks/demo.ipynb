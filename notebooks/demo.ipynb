{
 "cells": [
  {
   "cell_type": "code",
   "execution_count": 1,
   "metadata": {},
   "outputs": [],
   "source": [
    "# Add relevant Jupyter notebook extensions \n",
    "%load_ext autoreload\n",
    "%autoreload 2"
   ]
  },
  {
   "cell_type": "code",
   "execution_count": 2,
   "metadata": {},
   "outputs": [
    {
     "name": "stdout",
     "output_type": "stream",
     "text": [
      "['c:\\\\Users\\\\Patrick Warren\\\\OneDrive - Nexus365\\\\Eng\\\\3rd Year\\\\B1 Engineering Computation\\\\Scientific Coding\\\\b1-coding-practical-mt24\\\\notebooks', 'c:\\\\Users\\\\Patrick Warren\\\\anaconda3\\\\python312.zip', 'c:\\\\Users\\\\Patrick Warren\\\\anaconda3\\\\DLLs', 'c:\\\\Users\\\\Patrick Warren\\\\anaconda3\\\\Lib', 'c:\\\\Users\\\\Patrick Warren\\\\anaconda3', '', 'c:\\\\Users\\\\Patrick Warren\\\\anaconda3\\\\Lib\\\\site-packages', 'C:\\\\Users\\\\Patrick Warren\\\\OneDrive - Nexus365\\\\Eng\\\\3rd Year\\\\B1 Engineering Computation\\\\Scientific Coding\\\\b1-coding-practical-mt24\\\\uuv_mission', 'C:\\\\Users\\\\Patrick Warren\\\\OneDrive - Nexus365\\\\Eng\\\\3rd Year\\\\B1 Engineering Computation\\\\Scientific Coding\\\\b1-coding-practical-mt24\\\\data', 'c:\\\\Users\\\\Patrick Warren\\\\anaconda3\\\\Lib\\\\site-packages\\\\win32', 'c:\\\\Users\\\\Patrick Warren\\\\anaconda3\\\\Lib\\\\site-packages\\\\win32\\\\lib', 'c:\\\\Users\\\\Patrick Warren\\\\anaconda3\\\\Lib\\\\site-packages\\\\Pythonwin']\n"
     ]
    }
   ],
   "source": [
    "# You can double-check your Python path like this...\n",
    "import sys  \n",
    "print(sys.path)"
   ]
  },
  {
   "cell_type": "code",
   "execution_count": null,
   "metadata": {},
   "outputs": [],
   "source": [
    "# Testing to see what is being imported from mission file\n",
    "import pandas as pd\n",
    "\n",
    "df = pd.read_csv(\"../data/mission.csv\")\n",
    "\n",
    "references = df.iloc[:,0]\n",
    "cave_heights = df.iloc[:1]\n",
    "cave_depths = df.iloc[:,2]\n"
   ]
  },
  {
   "cell_type": "code",
   "execution_count": 21,
   "metadata": {},
   "outputs": [
    {
     "data": {
      "text/plain": [
       "Mission(reference=0     0.000000\n",
       "1     2.923913\n",
       "2     5.514324\n",
       "3     7.487585\n",
       "4     8.652029\n",
       "        ...   \n",
       "95   -1.335601\n",
       "96    0.754603\n",
       "97    2.380025\n",
       "98    3.296039\n",
       "99    3.364950\n",
       "Name: reference, Length: 100, dtype: float64, cave_height=   reference  cave_height  cave_depth\n",
       "0        0.0         30.0       -30.0, cave_depth=0    -30.000000\n",
       "1    -18.133231\n",
       "2     -8.659243\n",
       "3    -10.294475\n",
       "4     -2.496739\n",
       "        ...    \n",
       "95   -22.539706\n",
       "96   -13.089775\n",
       "97   -15.184951\n",
       "98   -12.685427\n",
       "99   -14.617106\n",
       "Name: cave_depth, Length: 100, dtype: float64)"
      ]
     },
     "execution_count": 21,
     "metadata": {},
     "output_type": "execute_result"
    }
   ],
   "source": [
    "import dynamic\n",
    "\n",
    "dynamic.Mission.from_csv(\"../data/mission.csv\")"
   ]
  },
  {
   "cell_type": "markdown",
   "metadata": {},
   "source": [
    "# Simulate closed-loop\n",
    "After implementing your control functionality, you can simulate the closed-loop with code that looks something like this..."
   ]
  },
  {
   "cell_type": "code",
   "execution_count": null,
   "metadata": {},
   "outputs": [],
   "source": [
    "# Import relevant modules\n",
    "\n",
    "sub = Submarine()\n",
    "# Instantiate your controller (depending on your implementation)\n",
    "closed_loop = ClosedLoop(sub, controller)\n",
    "mission = Mission.from_csv(\"path/to/file\") # You must implement this method in the Mission class\n",
    "\n",
    "trajectory = closed_loop.simulate_with_random_disturbances(mission)\n",
    "trajectory.plot_completed_mission(mission)"
   ]
  }
 ],
 "metadata": {
  "kernelspec": {
   "display_name": "base",
   "language": "python",
   "name": "python3"
  },
  "language_info": {
   "codemirror_mode": {
    "name": "ipython",
    "version": 3
   },
   "file_extension": ".py",
   "mimetype": "text/x-python",
   "name": "python",
   "nbconvert_exporter": "python",
   "pygments_lexer": "ipython3",
   "version": "3.12.4"
  }
 },
 "nbformat": 4,
 "nbformat_minor": 2
}
